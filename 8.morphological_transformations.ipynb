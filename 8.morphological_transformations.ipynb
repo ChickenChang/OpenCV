{
 "cells": [
  {
   "cell_type": "markdown",
   "metadata": {},
   "source": [
    "## OpenCV形態學操作\n",
    "\n",
    "型態學操作可以將影像作降噪及描繪骨架，是非常有用的前處理技巧。形態學操作主要包含腐蝕、膨脹、開運算、閉運算、梯度運算、禮帽運算及黑帽運算等等，而腐蝕及膨脹是形態學操作的基礎，透過腐蝕及膨脹的結合即可實現上述其他的運算。請記住，在影像處理中的腐蝕及膨脹指的是對二值化圖形中白色區域的操作。\n",
    "1. 腐蝕\n",
    "2. 膨脹\n",
    "3. 開運算\n",
    "4. 閉運算\n",
    "5. 梯度運算\n",
    "6. 禮帽運算\n",
    "7. 黑帽運算\n",
    "8. 擊中擊不中\n",
    "9. 核函數"
   ]
  },
  {
   "cell_type": "code",
   "execution_count": 1,
   "metadata": {},
   "outputs": [],
   "source": [
    "import matplotlib.pyplot as plt\n",
    "import numpy as np\n",
    "import sys\n",
    "import cv2\n",
    "%matplotlib inline"
   ]
  },
  {
   "cell_type": "code",
   "execution_count": 2,
   "metadata": {},
   "outputs": [
    {
     "name": "stdout",
     "output_type": "stream",
     "text": [
      "openCV version: 4.1.2\n",
      "python version: 3.5.2 (default, Sep 14 2017, 22:51:06) \n",
      "[GCC 5.4.0 20160609]\n"
     ]
    }
   ],
   "source": [
    "print('openCV version:', cv2.__version__)\n",
    "print('python version:', sys.version)"
   ]
  },
  {
   "cell_type": "markdown",
   "metadata": {},
   "source": [
    "## 腐蝕\n",
    "\n",
    "在腐蝕過程中，必須給定一個核函數來對整張圖的所有像素做比對，檢查核函數與比對區域的關係來決定腐蝕結果。\n",
    "\n",
    "如果核函數(非0的座標)對應的範圍座標中包含0，則在核函數的中心位置像素值就設定為0(黑色)，若都不包含0，則中心位置像素值就維持原本數值。\n",
    "\n",
    "在OpenCV中可以使用`cv2.erode()`實現腐蝕功能，函式如下:\n",
    "\n",
    "`dst = cv2.erode(src, kernel[, anchor[, iterations[, borderType[, borderValue]]]])`\n",
    "\n",
    "dst為輸出的圖片，src為輸入圖片，kernel為核函數，anchor為核函數錨點位置，也就是修改像素值的位置(預設為核函數的中心點)，iterations為腐蝕操作的次數，預設為一次，borderType為邊類型，為了保持輸入與輸出為同樣尺寸，需要將圖片邊界補寬，進行核函數比對時才能獲得同樣的輸出尺寸，預設為BORDER_CONSTANT，也就是以borderValue填補，borderValue為邊界值，預設為255。\n",
    "\n",
    "邊類型有以下類型:\n",
    "\n",
    "`BORDER_REFLICATE`:用最邊界的像素值填充 → aaaaaa | abcdefg | gggggg\n",
    "\n",
    "`BORDER_REFLECT`:倒映 → gfedcba | abcdefg | gfedcba\n",
    "\n",
    "`BORDER_REFLECT_101`:倒映，與`BORDER_REFLECT`類似，不重複最邊界像素值 → gfedcb | abcdefg | fedcba\n",
    "\n",
    "`BORDER_WRAP`: → efgabcdefg | abcdefg | abcdefgabc\n",
    "\n",
    "`BORDER_CONSTANT`:用指定的borderValue值來填補 → borderValue borderValue | abcdef | borderValue borderValue"
   ]
  },
  {
   "cell_type": "code",
   "execution_count": 3,
   "metadata": {},
   "outputs": [
    {
     "name": "stdout",
     "output_type": "stream",
     "text": [
      "img:\n",
      " [[0 0 0 0 0]\n",
      " [0 1 1 1 0]\n",
      " [0 1 1 1 0]\n",
      " [0 1 1 1 0]\n",
      " [0 0 0 0 0]]\n",
      "kernel:\n",
      " [[1]\n",
      " [1]\n",
      " [1]]\n",
      "erosion:\n",
      " [[0 0 0 0 0]\n",
      " [0 0 0 0 0]\n",
      " [0 1 1 1 0]\n",
      " [0 0 0 0 0]\n",
      " [0 0 0 0 0]]\n"
     ]
    }
   ],
   "source": [
    "# 自訂圖片\n",
    "img = np.zeros((5, 5), dtype = np.uint8)\n",
    "# 下行的1可以改為其他非0數字也可以執行，也不限於二值化圖片(但是要製造完整效果最好還是使用二值化圖片)\n",
    "img[1:4, 1:4] = 1\n",
    "# kernel只區分0及非0(非0為關注座標)，所以1改為非0數字效果相同\n",
    "kernel = np.ones((3, 1), dtype = np.uint8)\n",
    "# 可自行修改kernel做實驗\n",
    "# kernel = np.array([[1],[0],[0]], dtype = np.uint8)\n",
    "# 關注座標中包含0則將kernel中心位置座標改為0，未包含0則維持原本數值\n",
    "erosion = cv2.erode(img, kernel)\n",
    "print('img:\\n', img)\n",
    "print('kernel:\\n', kernel)\n",
    "print('erosion:\\n', erosion)"
   ]
  },
  {
   "cell_type": "code",
   "execution_count": 4,
   "metadata": {},
   "outputs": [
    {
     "name": "stdout",
     "output_type": "stream",
     "text": [
      "原圖:\n"
     ]
    },
    {
     "data": {
      "image/png": "[encoded data removed]",
      "text/plain": [
       "<matplotlib.figure.Figure at 0x7efd926ca908>"
      ]
     },
     "metadata": {},
     "output_type": "display_data"
    },
    {
     "name": "stdout",
     "output_type": "stream",
     "text": [
      "以3*3 kernel腐蝕:\n"
     ]
    },
    {
     "data": {
      "image/png": "[encoded data removed]",
      "text/plain": [
       "<matplotlib.figure.Figure at 0x7efe05d73668>"
      ]
     },
     "metadata": {},
     "output_type": "display_data"
    }
   ],
   "source": [
    "# 讀取外部圖片\n",
    "img_j = cv2.imread('data/j.png', 0)\n",
    "kernel = np.ones((3, 3), dtype = np.uint8)\n",
    "erosion = cv2.erode(img_j, kernel)\n",
    "\n",
    "print('原圖:')\n",
    "plt.imshow(img_j, cmap = 'gray')\n",
    "plt.show()\n",
    "print('以3*3 kernel腐蝕:')\n",
    "plt.imshow(erosion, cmap = 'gray')\n",
    "plt.show()"
   ]
  },
  {
   "cell_type": "code",
   "execution_count": 5,
   "metadata": {},
   "outputs": [
    {
     "name": "stdout",
     "output_type": "stream",
     "text": [
      "原圖:\n"
     ]
    },
    {
     "data": {
      "image/png": "[encoded data removed]",
      "text/plain": [
       "<matplotlib.figure.Figure at 0x7efe05e4fd30>"
      ]
     },
     "metadata": {},
     "output_type": "display_data"
    },
    {
     "name": "stdout",
     "output_type": "stream",
     "text": [
      "以10*10 kernel腐蝕:\n"
     ]
    },
    {
     "data": {
      "image/png": "[encoded data removed]",
      "text/plain": [
       "<matplotlib.figure.Figure at 0x7efe05cf7a90>"
      ]
     },
     "metadata": {},
     "output_type": "display_data"
    }
   ],
   "source": [
    "# 如果kernel太大有可能造成整個圖案消失\n",
    "kernel = np.ones((10, 10), dtype = np.uint8)\n",
    "erosion = cv2.erode(img_j, kernel)\n",
    "\n",
    "print('原圖:')\n",
    "plt.imshow(img_j, cmap = 'gray')\n",
    "plt.show()\n",
    "print('以10*10 kernel腐蝕:')\n",
    "plt.imshow(erosion, cmap = 'gray')\n",
    "plt.show()"
   ]
  },
  {
   "cell_type": "code",
   "execution_count": 6,
   "metadata": {},
   "outputs": [
    {
     "name": "stdout",
     "output_type": "stream",
     "text": [
      "原圖:\n"
     ]
    },
    {
     "data": {
      "image/png": "[encoded data removed]",
      "text/plain": [
       "<matplotlib.figure.Figure at 0x7efd8a852940>"
      ]
     },
     "metadata": {},
     "output_type": "display_data"
    },
    {
     "name": "stdout",
     "output_type": "stream",
     "text": [
      "以3*3 kernel腐蝕3次:\n"
     ]
    },
    {
     "data": {
      "image/png": "[encoded data removed]",
      "text/plain": [
       "<matplotlib.figure.Figure at 0x7efd8a7f7438>"
      ]
     },
     "metadata": {},
     "output_type": "display_data"
    }
   ],
   "source": [
    "# 嘗試使用iterations重複腐蝕\n",
    "kernel = np.ones((3, 3), dtype = np.uint8)\n",
    "erosion = cv2.erode(img_j, kernel, iterations = 3)\n",
    "\n",
    "print('原圖:')\n",
    "plt.imshow(img_j, cmap = 'gray')\n",
    "plt.show()\n",
    "print('以3*3 kernel腐蝕3次:')\n",
    "plt.imshow(erosion, cmap = 'gray')\n",
    "plt.show()"
   ]
  },
  {
   "cell_type": "code",
   "execution_count": 7,
   "metadata": {},
   "outputs": [
    {
     "name": "stdout",
     "output_type": "stream",
     "text": [
      "原圖:\n"
     ]
    },
    {
     "data": {
      "image/png": "[encoded data removed]",
      "text/plain": [
       "<matplotlib.figure.Figure at 0x7efe001129b0>"
      ]
     },
     "metadata": {},
     "output_type": "display_data"
    },
    {
     "name": "stdout",
     "output_type": "stream",
     "text": [
      "以3*3 kernel腐蝕:\n"
     ]
    },
    {
     "data": {
      "image/png": "[encoded data removed]",
      "text/plain": [
       "<matplotlib.figure.Figure at 0x7efd8a77ed68>"
      ]
     },
     "metadata": {},
     "output_type": "display_data"
    }
   ],
   "source": [
    "# 腐蝕的特色是，可以消除外部細小雜訊或汙點\n",
    "# 讀取外部圖片\n",
    "img_j_outside = cv2.imread('data/j_outside.png', 0)\n",
    "kernel = np.ones((3, 3), dtype = np.uint8)\n",
    "erosion = cv2.erode(img_j_outside, kernel)\n",
    "\n",
    "print('原圖:')\n",
    "plt.imshow(img_j_outside, cmap = 'gray')\n",
    "plt.show()\n",
    "print('以3*3 kernel腐蝕:')\n",
    "plt.imshow(erosion, cmap = 'gray')\n",
    "plt.show()"
   ]
  },
  {
   "cell_type": "markdown",
   "metadata": {},
   "source": [
    "## 膨脹\n",
    "\n",
    "與腐蝕不同的是如果核函數(非0的座標)對應的範圍座標中包含非0數值，則在核函數的中心位置像素值就設定為原本數值，若範圍座標都為0，則中心位置像素值就設定為0(黑色)。\n",
    "\n",
    "在OpenCV中可以使用`cv2.dilate()`實現膨脹功能，函式如下:\n",
    "\n",
    "`dst = cv2.dilate(src, kernel[, anchor[, iterations[, borderType[, borderValue]]]])`\n",
    "\n",
    "dst為輸出的圖片，src為輸入圖片，kernel為核函數，anchor為核函數錨點位置，也就是修改像素值的位置(預設為核函數的中心點)，iterations為膨脹操作的次數，預設為一次，borderType為邊類型，為了保持輸入與輸出為同樣尺寸，需要將圖片邊界補寬，進行核函數比對時才能獲得同樣的輸出尺寸，預設為BORDER_CONSTANT，也就是以borderValue填補，borderValue為邊界值，預設為255。\n",
    "\n",
    "邊類型有以下類型:\n",
    "\n",
    "`BORDER_REFLICATE`:用最邊界的像素值填充 → aaaaaa | abcdefg | gggggg\n",
    "\n",
    "`BORDER_REFLECT`:倒映 → gfedcba | abcdefg | gfedcba\n",
    "\n",
    "`BORDER_REFLECT_101`:倒映，與`BORDER_REFLECT`類似，不重複最邊界像素值 → gfedcb | abcdefg | fedcba\n",
    "\n",
    "`BORDER_WRAP`: → efgabcdefg | abcdefg | abcdefgabc\n",
    "\n",
    "`BORDER_CONSTANT`:用指定的borderValue值來填補 → borderValue borderValue | abcdef | borderValue borderValue"
   ]
  },
  {
   "cell_type": "code",
   "execution_count": 8,
   "metadata": {},
   "outputs": [
    {
     "name": "stdout",
     "output_type": "stream",
     "text": [
      "img:\n",
      " [[0 0 0 0 0]\n",
      " [0 1 1 1 0]\n",
      " [0 1 1 1 0]\n",
      " [0 1 1 1 0]\n",
      " [0 0 0 0 0]]\n",
      "kernel:\n",
      " [[1]\n",
      " [1]\n",
      " [1]]\n",
      "dilation:\n",
      " [[0 1 1 1 0]\n",
      " [0 1 1 1 0]\n",
      " [0 1 1 1 0]\n",
      " [0 1 1 1 0]\n",
      " [0 1 1 1 0]]\n"
     ]
    }
   ],
   "source": [
    "# 自訂圖片\n",
    "img = np.zeros((5, 5), dtype = np.uint8)\n",
    "# 下行的1可以改為其他非0數字也可以執行，也不限於二值化圖片(但是要製造完整效果最好還是使用二值化圖片)\n",
    "img[1:4, 1:4] = 1\n",
    "# kernel只區分0及非0(非0為關注座標)，所以1改為非0數字效果相同\n",
    "kernel = np.ones((3, 1), dtype = np.uint8)\n",
    "# 可自行修改kernel做實驗\n",
    "# kernel = np.array([[1],[0],[0]], dtype = np.uint8)\n",
    "# 關注座標中包含0則將kernel中心位置座標改為0，未包含0則維持原本數值\n",
    "dilation = cv2.dilate(img, kernel)\n",
    "print('img:\\n', img)\n",
    "print('kernel:\\n', kernel)\n",
    "print('dilation:\\n', dilation)"
   ]
  },
  {
   "cell_type": "code",
   "execution_count": 9,
   "metadata": {},
   "outputs": [
    {
     "name": "stdout",
     "output_type": "stream",
     "text": [
      "原圖:\n"
     ]
    },
    {
     "data": {
      "image/png": "[encoded data removed]",
      "text/plain": [
       "<matplotlib.figure.Figure at 0x7efe05df4048>"
      ]
     },
     "metadata": {},
     "output_type": "display_data"
    },
    {
     "name": "stdout",
     "output_type": "stream",
     "text": [
      "以3*3 kernel膨脹:\n"
     ]
    },
    {
     "data": {
      "image/png": "[encoded data removed]",
      "text/plain": [
       "<matplotlib.figure.Figure at 0x7efd8a6f4278>"
      ]
     },
     "metadata": {},
     "output_type": "display_data"
    }
   ],
   "source": [
    "# 讀取外部圖片\n",
    "img_j = cv2.imread('data/j.png', 0)\n",
    "kernel = np.ones((3, 3), dtype = np.uint8)\n",
    "dilation = cv2.dilate(img_j, kernel)\n",
    "\n",
    "print('原圖:')\n",
    "plt.imshow(img_j, cmap = 'gray')\n",
    "plt.show()\n",
    "print('以3*3 kernel膨脹:')\n",
    "plt.imshow(dilation, cmap = 'gray')\n",
    "plt.show()"
   ]
  },
  {
   "cell_type": "code",
   "execution_count": 10,
   "metadata": {},
   "outputs": [
    {
     "name": "stdout",
     "output_type": "stream",
     "text": [
      "原圖:\n"
     ]
    },
    {
     "data": {
      "image/png": "[encoded data removed]",
      "text/plain": [
       "<matplotlib.figure.Figure at 0x7efd8a7c6550>"
      ]
     },
     "metadata": {},
     "output_type": "display_data"
    },
    {
     "name": "stdout",
     "output_type": "stream",
     "text": [
      "以3*3 kernel膨脹3次:\n"
     ]
    },
    {
     "data": {
      "image/png": "[encoded data removed]",
      "text/plain": [
       "<matplotlib.figure.Figure at 0x7efd8a71cdd8>"
      ]
     },
     "metadata": {},
     "output_type": "display_data"
    }
   ],
   "source": [
    "# 嘗試使用iterations重複膨脹\n",
    "kernel = np.ones((3, 3), dtype = np.uint8)\n",
    "dilation = cv2.dilate(img_j, kernel, iterations = 3)\n",
    "\n",
    "print('原圖:')\n",
    "plt.imshow(img_j, cmap = 'gray')\n",
    "plt.show()\n",
    "print('以3*3 kernel膨脹3次:')\n",
    "plt.imshow(dilation, cmap = 'gray')\n",
    "plt.show()"
   ]
  },
  {
   "cell_type": "code",
   "execution_count": 11,
   "metadata": {},
   "outputs": [
    {
     "name": "stdout",
     "output_type": "stream",
     "text": [
      "原圖:\n"
     ]
    },
    {
     "data": {
      "image/png": "[encoded data removed]",
      "text/plain": [
       "<matplotlib.figure.Figure at 0x7efd8a768ef0>"
      ]
     },
     "metadata": {},
     "output_type": "display_data"
    },
    {
     "name": "stdout",
     "output_type": "stream",
     "text": [
      "以3*3 kernel膨脹:\n"
     ]
    },
    {
     "data": {
      "image/png": "[encoded data removed]",
      "text/plain": [
       "<matplotlib.figure.Figure at 0x7efe05db60f0>"
      ]
     },
     "metadata": {},
     "output_type": "display_data"
    }
   ],
   "source": [
    "# 膨脹的特色是，可以消除內部細小雜訊或汙點\n",
    "# 讀取外部圖片\n",
    "img_j_inside = cv2.imread('data/j_inside.png', 0)\n",
    "kernel = np.ones((3, 3), dtype = np.uint8)\n",
    "dilation = cv2.dilate(img_j_inside, kernel)\n",
    "\n",
    "print('原圖:')\n",
    "plt.imshow(img_j_inside, cmap = 'gray')\n",
    "plt.show()\n",
    "print('以3*3 kernel膨脹:')\n",
    "plt.imshow(dilation, cmap = 'gray')\n",
    "plt.show()"
   ]
  },
  {
   "cell_type": "markdown",
   "metadata": {},
   "source": [
    "## 通用形態學函式\n",
    "\n",
    "形態學操作基本上都是腐蝕與膨脹的組合，OpenCV提供通用函式`cv2.morphologyEx()`進行此篇所有形態學操作，函式如下:\n",
    "\n",
    "`dst = cv2.morphologyEx(src, op, kernel[, anchor[, iterations[, borderType[, borderValue]]]])`\n",
    "\n",
    "dst為輸出的圖片，src為輸入圖片，op為操作類型，kernel為核函數，anchor為核函數錨點位置，也就是修改像素值的位置(預設為核函數的中心點)，iterations為操作的次數，預設為一次，borderType為邊類型，為了保持輸入與輸出為同樣尺寸，需要將圖片邊界補寬，進行核函數比對時才能獲得同樣的輸出尺寸，預設為BORDER_CONSTANT，也就是以borderValue填補，borderValue為邊界值，預設為255。\n",
    "\n",
    "op操作類型有以下數種:\n",
    "\n",
    "`cv2.MORPH_ERODE`:腐蝕。\n",
    "\n",
    "`cv2.MORPH_DILATE`:膨脹。\n",
    "\n",
    "`cv2.MORPH_OPEN`:開運算→先腐蝕後膨脹。\n",
    "\n",
    "`cv2.MORPH_CLOSE`:閉運算→先膨脹後腐蝕。\n",
    "\n",
    "`cv2.MORPH_GRADIENT`:梯度運算→膨脹圖減腐蝕圖。\n",
    "\n",
    "`cv2.MORPH_TOPHAT`:禮帽運算→原始影像減開運算影像。\n",
    "\n",
    "`cv2.MORPH_BLACKHAT`:黑帽運算→閉運算影像減原始影像。\n",
    "\n",
    "`cv2.MORPH_HITMISS`:擊中擊不中→設定要搜尋的圖案進行搜尋。\n",
    "\n",
    "邊類型有以下類型:\n",
    "\n",
    "`BORDER_REFLICATE`:用最邊界的像素值填充 → aaaaaa | abcdefg | gggggg\n",
    "\n",
    "`BORDER_REFLECT`:倒映 → gfedcba | abcdefg | gfedcba\n",
    "\n",
    "`BORDER_REFLECT_101`:倒映，與`BORDER_REFLECT`類似，不重複最邊界像素值 → gfedcb | abcdefg | fedcba\n",
    "\n",
    "`BORDER_WRAP`: → efgabcdefg | abcdefg | abcdefgabc\n",
    "\n",
    "`BORDER_CONSTANT`:用指定的borderValue值來填補 → borderValue borderValue | abcdef | borderValue borderValue"
   ]
  },
  {
   "cell_type": "code",
   "execution_count": 12,
   "metadata": {},
   "outputs": [
    {
     "name": "stdout",
     "output_type": "stream",
     "text": [
      "原圖:\n"
     ]
    },
    {
     "data": {
      "image/png": "[encoded data removed]",
      "text/plain": [
       "<matplotlib.figure.Figure at 0x7efd8a7502b0>"
      ]
     },
     "metadata": {},
     "output_type": "display_data"
    },
    {
     "name": "stdout",
     "output_type": "stream",
     "text": [
      "以dilate函式進行3*3 kernel膨脹:\n"
     ]
    },
    {
     "data": {
      "image/png": "[encoded data removed]",
      "text/plain": [
       "<matplotlib.figure.Figure at 0x7efd8a758fd0>"
      ]
     },
     "metadata": {},
     "output_type": "display_data"
    },
    {
     "name": "stdout",
     "output_type": "stream",
     "text": [
      "以morphologyEx函式進行3*3 kernel膨脹:\n"
     ]
    },
    {
     "data": {
      "image/png": "[encoded data removed]",
      "text/plain": [
       "<matplotlib.figure.Figure at 0x7efd8a7dccc0>"
      ]
     },
     "metadata": {},
     "output_type": "display_data"
    },
    {
     "name": "stdout",
     "output_type": "stream",
     "text": [
      "兩圖是否完全相等: True\n"
     ]
    }
   ],
   "source": [
    "# 比較通用函式與膨脹函式進行膨脹\n",
    "kernel = np.ones((3, 3), dtype = np.uint8)\n",
    "dilation = cv2.dilate(img_j_inside, kernel)\n",
    "dilation_Ex = cv2.morphologyEx(img_j_inside, cv2.MORPH_DILATE, kernel)\n",
    "\n",
    "print('原圖:')\n",
    "plt.imshow(img_j_inside, cmap = 'gray')\n",
    "plt.show()\n",
    "print('以dilate函式進行3*3 kernel膨脹:')\n",
    "plt.imshow(dilation, cmap = 'gray')\n",
    "plt.show()\n",
    "print('以morphologyEx函式進行3*3 kernel膨脹:')\n",
    "plt.imshow(dilation_Ex, cmap = 'gray')\n",
    "plt.show()\n",
    "print('兩圖是否完全相等:', (dilation == dilation_Ex).all())"
   ]
  },
  {
   "cell_type": "markdown",
   "metadata": {},
   "source": [
    "## 開運算\n",
    "\n",
    "已知腐蝕可以將外部雜訊去除，不過腐蝕過後的圖像變小，可以再進行膨脹使大小復原，先進行腐蝕再進行膨脹就是開運算。\n",
    "\n",
    "開運算也可以使前景物體(非0的像素點)斷開。"
   ]
  },
  {
   "cell_type": "code",
   "execution_count": 13,
   "metadata": {},
   "outputs": [
    {
     "name": "stdout",
     "output_type": "stream",
     "text": [
      "原圖:\n"
     ]
    },
    {
     "data": {
      "image/png": "[encoded data removed]",
      "text/plain": [
       "<matplotlib.figure.Figure at 0x7efd8a730160>"
      ]
     },
     "metadata": {},
     "output_type": "display_data"
    },
    {
     "name": "stdout",
     "output_type": "stream",
     "text": [
      "以3*3 kernel開運算:\n"
     ]
    },
    {
     "data": {
      "image/png": "[encoded data removed]",
      "text/plain": [
       "<matplotlib.figure.Figure at 0x7efe05db24e0>"
      ]
     },
     "metadata": {},
     "output_type": "display_data"
    }
   ],
   "source": [
    "# 將外部雜訊去除並維持大小\n",
    "kernel = np.ones((3, 3), dtype = np.uint8)\n",
    "morph_open = cv2.morphologyEx(img_j_outside, cv2.MORPH_OPEN, kernel)\n",
    "\n",
    "print('原圖:')\n",
    "plt.imshow(img_j_outside, cmap = 'gray')\n",
    "plt.show()\n",
    "print('以3*3 kernel開運算:')\n",
    "plt.imshow(morph_open, cmap = 'gray')\n",
    "plt.show()"
   ]
  },
  {
   "cell_type": "code",
   "execution_count": 14,
   "metadata": {},
   "outputs": [
    {
     "name": "stdout",
     "output_type": "stream",
     "text": [
      "原圖:\n"
     ]
    },
    {
     "data": {
      "image/png": "[encoded data removed]",
      "text/plain": [
       "<matplotlib.figure.Figure at 0x7efd8a83a7f0>"
      ]
     },
     "metadata": {},
     "output_type": "display_data"
    },
    {
     "name": "stdout",
     "output_type": "stream",
     "text": [
      "以3*3 kernel開運算:\n"
     ]
    },
    {
     "data": {
      "image/png": "[encoded data removed]",
      "text/plain": [
       "<matplotlib.figure.Figure at 0x7efd8a80f898>"
      ]
     },
     "metadata": {},
     "output_type": "display_data"
    }
   ],
   "source": [
    "# 自訂一張11*6的二值化圖片(通道數為一)\n",
    "img_gray = np.array([[  0,   0,   0,   0,   0,   0,   0,   0,   0,   0,   0],\n",
    "                     [  0, 255, 255, 255,   0,   0,   0, 255, 255, 255,   0],\n",
    "                     [  0, 255, 255, 255,   0,   0,   0, 255, 255, 255,   0],\n",
    "                     [  0, 255, 255, 255, 255, 255, 255, 255, 255, 255,   0],\n",
    "                     [  0, 255, 255, 255,   0,   0,   0, 255, 255, 255,   0],\n",
    "                     [  0,   0,   0,   0,   0,   0,   0,   0,   0,   0,   0]], dtype=np.uint8)\n",
    "\n",
    "# 進行開運算\n",
    "kernel = np.ones((3, 3), dtype = np.uint8)\n",
    "morph_open = cv2.morphologyEx(img_gray, cv2.MORPH_OPEN, kernel)\n",
    "\n",
    "print('原圖:')\n",
    "plt.imshow(img_gray, cmap = 'gray')\n",
    "plt.show()\n",
    "print('以3*3 kernel開運算:')\n",
    "plt.imshow(morph_open, cmap = 'gray')\n",
    "plt.show()"
   ]
  },
  {
   "cell_type": "markdown",
   "metadata": {},
   "source": [
    "## 閉運算\n",
    "\n",
    "已知膨脹可以將內部雜訊去除，不過膨脹過後的圖像變大，可以再進行腐蝕使大小復原，先進行膨脹再進行腐蝕就是閉運算。\n",
    "\n",
    "開運算也可以使兩前景物體(非0的像素點)黏合。"
   ]
  },
  {
   "cell_type": "code",
   "execution_count": 15,
   "metadata": {},
   "outputs": [
    {
     "name": "stdout",
     "output_type": "stream",
     "text": [
      "原圖:\n"
     ]
    },
    {
     "data": {
      "image/png": "[encoded data removed]",
      "text/plain": [
       "<matplotlib.figure.Figure at 0x7efe05da4358>"
      ]
     },
     "metadata": {},
     "output_type": "display_data"
    },
    {
     "name": "stdout",
     "output_type": "stream",
     "text": [
      "以3*3 kernel開運算:\n"
     ]
    },
    {
     "data": {
      "image/png": "[encoded data removed]",
      "text/plain": [
       "<matplotlib.figure.Figure at 0x7efe05cea9e8>"
      ]
     },
     "metadata": {},
     "output_type": "display_data"
    }
   ],
   "source": [
    "# 將內部雜訊去除並維持大小\n",
    "kernel = np.ones((3, 3), dtype = np.uint8)\n",
    "morph_close = cv2.morphologyEx(img_j_inside, cv2.MORPH_CLOSE, kernel)\n",
    "\n",
    "print('原圖:')\n",
    "plt.imshow(img_j_inside, cmap = 'gray')\n",
    "plt.show()\n",
    "print('以3*3 kernel開運算:')\n",
    "plt.imshow(morph_close, cmap = 'gray')\n",
    "plt.show()"
   ]
  },
  {
   "cell_type": "code",
   "execution_count": 16,
   "metadata": {},
   "outputs": [
    {
     "name": "stdout",
     "output_type": "stream",
     "text": [
      "原圖:\n"
     ]
    },
    {
     "data": {
      "image/png": "[encoded data removed]",
      "text/plain": [
       "<matplotlib.figure.Figure at 0x7efd8a86b438>"
      ]
     },
     "metadata": {},
     "output_type": "display_data"
    },
    {
     "name": "stdout",
     "output_type": "stream",
     "text": [
      "以3*3 kernel閉運算:\n"
     ]
    },
    {
     "data": {
      "image/png": "[encoded data removed]",
      "text/plain": [
       "<matplotlib.figure.Figure at 0x7efe0643fe48>"
      ]
     },
     "metadata": {},
     "output_type": "display_data"
    }
   ],
   "source": [
    "# 自訂一張11*6的二值化圖片(通道數為一)\n",
    "img_gray = np.array([[  0,   0,   0,   0,   0,   0,   0,   0,   0,   0,   0],\n",
    "                     [  0, 255, 255, 255, 255,   0, 255, 255, 255, 255,   0],\n",
    "                     [  0, 255, 255, 255, 255,   0, 255, 255, 255, 255,   0],\n",
    "                     [  0, 255, 255, 255, 255,   0, 255, 255, 255, 255,   0],\n",
    "                     [  0, 255, 255, 255, 255,   0, 255, 255, 255, 255,   0],\n",
    "                     [  0,   0,   0,   0,   0,   0,   0,   0,   0,   0,   0]], dtype=np.uint8)\n",
    "\n",
    "# 進行閉運算\n",
    "kernel = np.ones((3, 3), dtype = np.uint8)\n",
    "# 預設borderValue為255，會影響閉運算計算(膨脹時會與補上的border相黏)，所以將borderValue改為0\n",
    "morph_close = cv2.morphologyEx(img_gray, cv2.MORPH_CLOSE, kernel, borderValue = 0)\n",
    "\n",
    "print('原圖:')\n",
    "plt.imshow(img_gray, cmap = 'gray')\n",
    "plt.show()\n",
    "print('以3*3 kernel閉運算:')\n",
    "plt.imshow(morph_close, cmap = 'gray')\n",
    "plt.show()"
   ]
  },
  {
   "cell_type": "markdown",
   "metadata": {},
   "source": [
    "## 梯度運算\n",
    "\n",
    "以膨脹圖減去腐蝕圖，可以獲得圖像邊界。"
   ]
  },
  {
   "cell_type": "code",
   "execution_count": 17,
   "metadata": {},
   "outputs": [
    {
     "name": "stdout",
     "output_type": "stream",
     "text": [
      "原圖:\n"
     ]
    },
    {
     "data": {
      "image/png": "[encoded data removed]",
      "text/plain": [
       "<matplotlib.figure.Figure at 0x7efd8a774dd8>"
      ]
     },
     "metadata": {},
     "output_type": "display_data"
    },
    {
     "name": "stdout",
     "output_type": "stream",
     "text": [
      "以3*3 kernel梯度運算:\n"
     ]
    },
    {
     "data": {
      "image/png": "[encoded data removed]",
      "text/plain": [
       "<matplotlib.figure.Figure at 0x7efe05cfb908>"
      ]
     },
     "metadata": {},
     "output_type": "display_data"
    }
   ],
   "source": [
    "# 梯度運算\n",
    "kernel = np.ones((3, 3), dtype = np.uint8)\n",
    "morph_gradient = cv2.morphologyEx(img_j, cv2.MORPH_GRADIENT, kernel)\n",
    "\n",
    "print('原圖:')\n",
    "plt.imshow(img_j, cmap = 'gray')\n",
    "plt.show()\n",
    "print('以3*3 kernel梯度運算:')\n",
    "plt.imshow(morph_gradient, cmap = 'gray')\n",
    "plt.show()"
   ]
  },
  {
   "cell_type": "markdown",
   "metadata": {},
   "source": [
    "## 禮帽運算\n",
    "\n",
    "以原圖減去開運算圖，可以方便觀察開運算所去除的外部雜訊。"
   ]
  },
  {
   "cell_type": "code",
   "execution_count": 18,
   "metadata": {},
   "outputs": [
    {
     "name": "stdout",
     "output_type": "stream",
     "text": [
      "原圖:\n"
     ]
    },
    {
     "data": {
      "image/png": "[encoded data removed]",
      "text/plain": [
       "<matplotlib.figure.Figure at 0x7efd8a802fd0>"
      ]
     },
     "metadata": {},
     "output_type": "display_data"
    },
    {
     "name": "stdout",
     "output_type": "stream",
     "text": [
      "以3*3 kernel禮帽運算:\n"
     ]
    },
    {
     "data": {
      "image/png": "[encoded data removed]",
      "text/plain": [
       "<matplotlib.figure.Figure at 0x7efe05d8deb8>"
      ]
     },
     "metadata": {},
     "output_type": "display_data"
    }
   ],
   "source": [
    "# 禮帽運算\n",
    "kernel = np.ones((3, 3), dtype = np.uint8)\n",
    "morph_tophat = cv2.morphologyEx(img_j_outside, cv2.MORPH_TOPHAT, kernel)\n",
    "\n",
    "print('原圖:')\n",
    "plt.imshow(img_j_outside, cmap = 'gray')\n",
    "plt.show()\n",
    "print('以3*3 kernel禮帽運算:')\n",
    "plt.imshow(morph_tophat, cmap = 'gray')\n",
    "plt.show()"
   ]
  },
  {
   "cell_type": "markdown",
   "metadata": {},
   "source": [
    "## 黑帽運算\n",
    "\n",
    "以閉運算圖減去原圖，可以方便觀察閉運算所去除的內部雜訊。"
   ]
  },
  {
   "cell_type": "code",
   "execution_count": 19,
   "metadata": {},
   "outputs": [
    {
     "name": "stdout",
     "output_type": "stream",
     "text": [
      "原圖:\n"
     ]
    },
    {
     "data": {
      "image/png": "[encoded data removed]",
      "text/plain": [
       "<matplotlib.figure.Figure at 0x7efd8a7af400>"
      ]
     },
     "metadata": {},
     "output_type": "display_data"
    },
    {
     "name": "stdout",
     "output_type": "stream",
     "text": [
      "以3*3 kernel黑帽運算:\n"
     ]
    },
    {
     "data": {
      "image/png": "[encoded data removed]",
      "text/plain": [
       "<matplotlib.figure.Figure at 0x7efe05cff320>"
      ]
     },
     "metadata": {},
     "output_type": "display_data"
    }
   ],
   "source": [
    "# 黑帽運算\n",
    "kernel = np.ones((3, 3), dtype = np.uint8)\n",
    "morph_blackhat = cv2.morphologyEx(img_j_inside, cv2.MORPH_BLACKHAT, kernel)\n",
    "\n",
    "print('原圖:')\n",
    "plt.imshow(img_j_inside, cmap = 'gray')\n",
    "plt.show()\n",
    "print('以3*3 kernel黑帽運算:')\n",
    "plt.imshow(morph_blackhat, cmap = 'gray')\n",
    "plt.show()"
   ]
  },
  {
   "cell_type": "markdown",
   "metadata": {},
   "source": [
    "## 擊中擊不中\n",
    "\n",
    "腐蝕的kernel中，非0座標代表的就是比對區域的該座標不可為0，而擊中擊不中可以多設定-1的值來代表比對區域的該座標必須為0。\n",
    "\n",
    "如果用單純腐蝕的邏輯可以分為三步驟:\n",
    "\n",
    "1. 用kernel_A腐蝕圖像img\n",
    "2. 用kernel_B腐蝕圖像img的補集(黑白轉換)\n",
    "3. 將兩個結果進行逐位元and計算"
   ]
  },
  {
   "cell_type": "code",
   "execution_count": 20,
   "metadata": {},
   "outputs": [
    {
     "name": "stdout",
     "output_type": "stream",
     "text": [
      "原圖:\n"
     ]
    },
    {
     "data": {
      "image/png": "[encoded data removed]",
      "text/plain": [
       "<matplotlib.figure.Figure at 0x7efd8a770a58>"
      ]
     },
     "metadata": {},
     "output_type": "display_data"
    },
    {
     "name": "stdout",
     "output_type": "stream",
     "text": [
      "步驟一腐蝕圖:\n"
     ]
    },
    {
     "data": {
      "image/png": "[encoded data removed]",
      "text/plain": [
       "<matplotlib.figure.Figure at 0x7efd8a6bacf8>"
      ]
     },
     "metadata": {},
     "output_type": "display_data"
    },
    {
     "name": "stdout",
     "output_type": "stream",
     "text": [
      "步驟二腐蝕圖:\n"
     ]
    },
    {
     "data": {
      "image/png": "[encoded data removed]",
      "text/plain": [
       "<matplotlib.figure.Figure at 0x7efd8a719f60>"
      ]
     },
     "metadata": {},
     "output_type": "display_data"
    },
    {
     "name": "stdout",
     "output_type": "stream",
     "text": [
      "步驟三逐位元and運算:\n"
     ]
    },
    {
     "data": {
      "image/png": "[encoded data removed]",
      "text/plain": [
       "<matplotlib.figure.Figure at 0x7efd8a7cc860>"
      ]
     },
     "metadata": {},
     "output_type": "display_data"
    }
   ],
   "source": [
    "# 使用單純腐蝕方式實現\n",
    "img_gray = np.array([[  0,   0,   0,   0,  0,   0,   0,   0],\n",
    "                     [  0, 255, 255, 255,  0,   0,   0, 255],\n",
    "                     [  0, 255, 255, 255,  0,   0,   0,   0],\n",
    "                     [  0, 255, 255, 255,  0, 255,   0,   0],\n",
    "                     [  0,   0, 255,   0,  0,   0,   0,   0],\n",
    "                     [  0,   0, 255,   0,  0, 255, 255,   0],\n",
    "                     [  0, 255,   0, 255,  0,   0, 255,   0],\n",
    "                     [  0, 255, 255, 255,  0,   0,   0,   0]], dtype=np.uint8)\n",
    "\n",
    "# img_gray = cv2.bitwise_not(img_gray, img_gray)\n",
    "\n",
    "print('原圖:')\n",
    "plt.imshow(img_gray, cmap = 'gray')\n",
    "plt.show()\n",
    "\n",
    "# 設定擊中區域\n",
    "kernel_A = np.array([[0, 1, 0],\n",
    "                     [1, 0, 1],\n",
    "                     [0, 1, 0]], dtype = np.uint8)\n",
    "\n",
    "erosion_1 = cv2.erode(img_gray, kernel_A)\n",
    "print('步驟一腐蝕圖:')\n",
    "plt.imshow(erosion_1, cmap = 'gray')\n",
    "plt.show()\n",
    "\n",
    "# 設定擊不中區域\n",
    "kernel_B = np.array([[0, 0, 0],\n",
    "                     [0, 1, 0],\n",
    "                     [0, 0, 0]], dtype = np.uint8)\n",
    "\n",
    "# 針對黑白反轉圖腐蝕\n",
    "erosion_2 = cv2.erode(cv2.bitwise_not(img_gray, img_gray), kernel_B)\n",
    "print('步驟二腐蝕圖:')\n",
    "plt.imshow(erosion_2, cmap = 'gray')\n",
    "plt.show()\n",
    "\n",
    "img_hitmiss = cv2.bitwise_and(erosion_1, erosion_2)\n",
    "print('步驟三逐位元and運算:')\n",
    "plt.imshow(img_hitmiss, cmap = 'gray')\n",
    "plt.show()"
   ]
  },
  {
   "cell_type": "code",
   "execution_count": 21,
   "metadata": {},
   "outputs": [
    {
     "name": "stdout",
     "output_type": "stream",
     "text": [
      "原圖:\n"
     ]
    },
    {
     "data": {
      "image/png": "[encoded data removed]",
      "text/plain": [
       "<matplotlib.figure.Figure at 0x7efd8a69ce10>"
      ]
     },
     "metadata": {},
     "output_type": "display_data"
    },
    {
     "name": "stdout",
     "output_type": "stream",
     "text": [
      "kernel:\n",
      " [[ 0  1  0]\n",
      " [ 1 -1  1]\n",
      " [ 0  1  0]]\n",
      "hitmiss:\n"
     ]
    },
    {
     "data": {
      "image/png": "[encoded data removed]",
      "text/plain": [
       "<matplotlib.figure.Figure at 0x7efd8a7d7c18>"
      ]
     },
     "metadata": {},
     "output_type": "display_data"
    }
   ],
   "source": [
    "# 使用MORPH_HITMISS實現\n",
    "img_gray = np.array([[  0,   0,   0,   0,  0,   0,   0,   0],\n",
    "                     [  0, 255, 255, 255,  0,   0,   0, 255],\n",
    "                     [  0, 255, 255, 255,  0,   0,   0,   0],\n",
    "                     [  0, 255, 255, 255,  0, 255,   0,   0],\n",
    "                     [  0,   0, 255,   0,  0,   0,   0,   0],\n",
    "                     [  0,   0, 255,   0,  0, 255, 255,   0],\n",
    "                     [  0, 255,   0, 255,  0,   0, 255,   0],\n",
    "                     [  0, 255, 255, 255,  0,   0,   0,   0]], dtype=np.uint8)\n",
    "# 擊中區域為>0整數，擊不中區域為-1，注意不能設定dtype = np.uint8，否則不能設定-1\n",
    "kernel = np.array([[0, 1, 0],\n",
    "                   [1, -1, 1],\n",
    "                   [0, 1, 0]])\n",
    "morph_hitmiss = cv2.morphologyEx(img_gray, cv2.MORPH_HITMISS, kernel)\n",
    "print('原圖:')\n",
    "plt.imshow(img_gray, cmap = 'gray')\n",
    "plt.show()\n",
    "print('kernel:\\n', kernel)\n",
    "print('hitmiss:')\n",
    "plt.imshow(morph_hitmiss, cmap = 'gray')\n",
    "plt.show()"
   ]
  },
  {
   "cell_type": "markdown",
   "metadata": {},
   "source": [
    "## 核函數\n",
    "\n",
    "在先前的例子中，我們都是使用自己手動創建的kernel，在OpenCV中也有函式`cv2.getStructuringElement()`能讓我們快速新建kernel:\n",
    "\n",
    "`retval = cv2.getStructuringElement(shape, ksize[, anchor])`\n",
    "\n",
    "其中shape代表形狀類型，ksize為kernel大小，anchor為核函數錨點位置，也就是修改像素值的位置(預設為核函數的中心點)。\n",
    "\n",
    "op操作類型有以下數種:\n",
    "\n",
    "`cv2.MORPH_RECT`:矩形結構，所有元素都為1。\n",
    "\n",
    "`cv2.MORPH_CROSS`:十字形結構，中心十字線元素為1。\n",
    "\n",
    "`cv2.MORPH_ELLIPSE`:橢圓結構。"
   ]
  },
  {
   "cell_type": "code",
   "execution_count": 22,
   "metadata": {},
   "outputs": [
    {
     "name": "stdout",
     "output_type": "stream",
     "text": [
      "kernel_rect:\n",
      " [[1 1 1 1 1]\n",
      " [1 1 1 1 1]\n",
      " [1 1 1 1 1]\n",
      " [1 1 1 1 1]\n",
      " [1 1 1 1 1]]\n",
      "kernel_cross:\n",
      " [[0 0 1 0 0]\n",
      " [0 0 1 0 0]\n",
      " [1 1 1 1 1]\n",
      " [0 0 1 0 0]\n",
      " [0 0 1 0 0]]\n",
      "kernel_ellipse:\n",
      " [[0 0 1 0 0]\n",
      " [1 1 1 1 1]\n",
      " [1 1 1 1 1]\n",
      " [1 1 1 1 1]\n",
      " [0 0 1 0 0]]\n"
     ]
    }
   ],
   "source": [
    "# 看看不同核函數的樣子\n",
    "kernel_rect = cv2.getStructuringElement(cv2.MORPH_RECT, (5, 5))\n",
    "kernel_cross = cv2.getStructuringElement(cv2.MORPH_CROSS, (5, 5))\n",
    "kernel_ellipse = cv2.getStructuringElement(cv2.MORPH_ELLIPSE, (5, 5))\n",
    "\n",
    "print('kernel_rect:\\n', kernel_rect)\n",
    "print('kernel_cross:\\n', kernel_cross)\n",
    "print('kernel_ellipse:\\n', kernel_ellipse)"
   ]
  },
  {
   "cell_type": "code",
   "execution_count": 23,
   "metadata": {},
   "outputs": [
    {
     "name": "stdout",
     "output_type": "stream",
     "text": [
      "原圖:\n"
     ]
    },
    {
     "data": {
      "image/png": "[encoded data removed]",
      "text/plain": [
       "<matplotlib.figure.Figure at 0x7efd8a74d278>"
      ]
     },
     "metadata": {},
     "output_type": "display_data"
    },
    {
     "name": "stdout",
     "output_type": "stream",
     "text": [
      "kernel_rect:\n"
     ]
    },
    {
     "data": {
      "image/png": "[encoded data removed]",
      "text/plain": [
       "<matplotlib.figure.Figure at 0x7efd8a73f1d0>"
      ]
     },
     "metadata": {},
     "output_type": "display_data"
    },
    {
     "name": "stdout",
     "output_type": "stream",
     "text": [
      "kernel_cross:\n"
     ]
    },
    {
     "data": {
      "image/png": "[encoded data removed]",
      "text/plain": [
       "<matplotlib.figure.Figure at 0x7efd8a7b6ac8>"
      ]
     },
     "metadata": {},
     "output_type": "display_data"
    },
    {
     "name": "stdout",
     "output_type": "stream",
     "text": [
      "kernel_ellipse:\n"
     ]
    },
    {
     "data": {
      "image/png": "[encoded data removed]",
      "text/plain": [
       "<matplotlib.figure.Figure at 0x7efe05d56eb8>"
      ]
     },
     "metadata": {},
     "output_type": "display_data"
    }
   ],
   "source": [
    "# 使用不同核函數進行膨脹運算\n",
    "# 自訂一張的二值化圖片(通道數為一)\n",
    "img_gray = cv2.imread('data/two_box.png', 0)\n",
    "\n",
    "kernel_rect = cv2.getStructuringElement(cv2.MORPH_RECT, (70, 70))\n",
    "kernel_cross = cv2.getStructuringElement(cv2.MORPH_CROSS, (70, 70))\n",
    "kernel_ellipse = cv2.getStructuringElement(cv2.MORPH_ELLIPSE, (70, 70))\n",
    "\n",
    "dilation_rect = cv2.dilate(img_gray, kernel_rect)\n",
    "dilation_cross = cv2.dilate(img_gray, kernel_cross)\n",
    "dilation_ellipse = cv2.dilate(img_gray, kernel_ellipse)\n",
    "\n",
    "print('原圖:')\n",
    "plt.imshow(img_gray, cmap = 'gray')\n",
    "plt.show()\n",
    "print('kernel_rect:')\n",
    "plt.imshow(dilation_rect, cmap = 'gray')\n",
    "plt.show()\n",
    "print('kernel_cross:')\n",
    "plt.imshow(dilation_cross, cmap = 'gray')\n",
    "plt.show()\n",
    "print('kernel_ellipse:')\n",
    "plt.imshow(dilation_ellipse, cmap = 'gray')\n",
    "plt.show()"
   ]
  }
 ],
 "metadata": {
  "kernelspec": {
   "display_name": "Python 3",
   "language": "python",
   "name": "python3"
  },
  "language_info": {
   "codemirror_mode": {
    "name": "ipython",
    "version": 3
   },
   "file_extension": ".py",
   "mimetype": "text/x-python",
   "name": "python",
   "nbconvert_exporter": "python",
   "pygments_lexer": "ipython3",
   "version": "3.5.2"
  }
 },
 "nbformat": 4,
 "nbformat_minor": 2
}
